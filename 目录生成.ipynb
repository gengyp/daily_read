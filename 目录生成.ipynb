{
 "cells": [
  {
   "cell_type": "code",
   "execution_count": 6,
   "source": [
    "import os"
   ],
   "outputs": [],
   "metadata": {}
  },
  {
   "cell_type": "code",
   "execution_count": 34,
   "source": [
    "def gen_dir(file_path):\n",
    "    cnt = 1\n",
    "    with open(file_path,'r+') as f:\n",
    "        for line in f.read().strip().split('\\n'):\n",
    "            if line.startswith(\"# \"):\n",
    "                print('\\t{}. {}'.format(cnt,line.replace('# ','')))\n",
    "                cnt += 1"
   ],
   "outputs": [],
   "metadata": {}
  },
  {
   "cell_type": "code",
   "execution_count": 36,
   "source": [
    "cnt = 1\n",
    "curr_dir = './2021/'\n",
    "for f in os.listdir(curr_dir):\n",
    "    print('{}. [{} 总结]({})'.format(cnt,os.path.splitext(f)[0],curr_dir+f))\n",
    "    gen_dir(curr_dir+f)\n",
    "    cnt += 1"
   ],
   "outputs": [
    {
     "output_type": "stream",
     "name": "stdout",
     "text": [
      "1. [0802-0808 总结](./2021/0802-0808.md)\n",
      "\t1. WPS\n",
      "2. [0727-0801 总结](./2021/0727-0801.md)\n",
      "\t1. [智能营销增益模型(uplift modeling)](https://blog.csdn.net/jinping_shi/article/details/105583375)\n",
      "\t2. [阿里文娱智能营销增益模型(Uplift Model)技术实践](https://mp.weixin.qq.com/s?__biz=MzU1NTMyOTI4Mw==&mid=2247498630&idx=1&sn=b36515e54c2dbc20186942102497c390)\n",
      "\t3. [LaTex常用数学符号整理](https://dev-preview.cnblogs.com/RioTian/p/14563284.html)\n",
      "3. [0719-0725 总结](./2021/0719-0725.md)\n",
      "\t1. [金融信用风险建模完整指南](https://zhuanlan.zhihu.com/p/387180581)\n",
      "\t2. [Git操作详解以及在VScode中的使用](https://zhuanlan.zhihu.com/p/276376558)\n",
      "\t3. [Python静态类型解析工具简介和实践](https://mp.weixin.qq.com/s/sngwguYAfJYl_3y16TLFRQ)\n",
      "\t4. spyder 使用教程\n",
      "\t5. vscode 使用教程\n"
     ]
    }
   ],
   "metadata": {}
  },
  {
   "cell_type": "code",
   "execution_count": 30,
   "source": [
    "os.listdir(curr_dir)"
   ],
   "outputs": [
    {
     "output_type": "execute_result",
     "data": {
      "text/plain": [
       "['0802-0808.md', '0727-0801.md', '0719-0725.md']"
      ]
     },
     "metadata": {},
     "execution_count": 30
    }
   ],
   "metadata": {}
  },
  {
   "cell_type": "code",
   "execution_count": null,
   "source": [],
   "outputs": [],
   "metadata": {}
  }
 ],
 "metadata": {
  "orig_nbformat": 4,
  "language_info": {
   "name": "python",
   "version": "3.7.6",
   "mimetype": "text/x-python",
   "codemirror_mode": {
    "name": "ipython",
    "version": 3
   },
   "pygments_lexer": "ipython3",
   "nbconvert_exporter": "python",
   "file_extension": ".py"
  },
  "kernelspec": {
   "name": "python3",
   "display_name": "Python 3.7.6 64-bit ('base': conda)"
  },
  "interpreter": {
   "hash": "dca0ade3e726a953b501b15e8e990130d2b7799f14cfd9f4271676035ebe5511"
  }
 },
 "nbformat": 4,
 "nbformat_minor": 2
}